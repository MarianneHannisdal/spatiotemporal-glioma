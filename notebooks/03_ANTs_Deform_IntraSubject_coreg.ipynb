{
 "cells": [
  {
   "attachments": {},
   "cell_type": "markdown",
   "metadata": {},
   "source": [
    "# 03 ANTs deform coregistration IntraSubject-InterTemporal between MRIdiagnosis and MRIrecurrent\n",
    "\n",
    "Marianne Hannisdal/Arvid Lundervold\n",
    "\n",
    "Last updated: **2025-03-13**"
   ]
  },
  {
   "cell_type": "markdown",
   "metadata": {},
   "source": [
    "Kernel: segment-glioma (Python 3.11.9)"
   ]
  },
  {
   "cell_type": "code",
   "execution_count": 1,
   "metadata": {
    "tags": []
   },
   "outputs": [],
   "source": [
    "%matplotlib inline\n",
    "# This to be able to display figures and graphs within the notebook browser\n",
    "\n",
    "import ants\n",
    "import os\n",
    "import os.path as op\n",
    "import shutil\n",
    "import subprocess as subp\n",
    "import pathlib\n",
    "import glob\n",
    "import shutil\n",
    "import string\n",
    "from datetime import date\n",
    "import warnings\n",
    "import numpy as np\n",
    "import pandas as pd\n",
    "import nibabel as nib\n",
    "from nibabel.viewers import OrthoSlicer3D\n",
    "import scipy\n",
    "from nilearn import image\n",
    "from nilearn import plotting\n",
    "from nilearn.plotting import plot_roi\n",
    "import matplotlib.pyplot as plt\n",
    "from matplotlib.colors import LinearSegmentedColormap\n",
    "import seaborn as sns\n",
    "from nilearn.image.image import mean_img\n",
    "from sklearn.cluster import KMeans\n",
    "from nilearn.masking import apply_mask\n",
    "from sklearn.preprocessing import StandardScaler\n",
    "from sklearn.neighbors import KNeighborsClassifier\n",
    "from sklearn.metrics import classification_report, confusion_matrix \n",
    "from sklearn.ensemble import RandomForestClassifier\n",
    "import IPython\n",
    "from matplotlib.colors import ListedColormap\n",
    "import warnings\n",
    "warnings.filterwarnings(\"ignore\")"
   ]
  },
  {
   "cell_type": "code",
   "execution_count": 2,
   "metadata": {
    "tags": []
   },
   "outputs": [
    {
     "name": "stdout",
     "output_type": "stream",
     "text": [
      "env: FREESURFER_HOME=/usr/local/freesurfer\n",
      "env: FSL_HOME=/usr/local/fsl\n"
     ]
    }
   ],
   "source": [
    "%env FREESURFER_HOME=/usr/local/freesurfer\n",
    "%env FSL_HOME=/usr/local/fsl"
   ]
  },
  {
   "cell_type": "code",
   "execution_count": 3,
   "metadata": {
    "tags": []
   },
   "outputs": [],
   "source": [
    "home = os.path.expanduser('~')\n",
    "\n",
    "SITE = '10'\n",
    "TREE = '/usr/bin/tree'\n",
    "\n",
    "MRICONVERT = '/usr/local/freesurfer/bin/mri_convert'\n",
    "FSLREORIENT2STD = '/usr/local/fsl/bin/fslreorient2std'\n",
    "FLIRT = '/usr/local/fsl/bin/flirt'\n",
    "FSLMATHS = '/usr/local/fsl/bin/fslmaths'\n",
    "EASYREG = '/usr/local/freesurfer/bin/mri_easyreg'\n",
    "\n",
    "\n",
    "base_dir = f\"{os.path.expanduser('~')}/prj/glioma_recurrence/glioma_recurrence/data/{SITE}\"\n",
    "nifti_dir = f\"{base_dir}/nifti\"   \n",
    "segment_glioma_dir = f\"{base_dir}/segment_glioma_1\"\n",
    "easyreg_dir = f\"{base_dir}/easyreg_1\"\n",
    "registered_dir = f\"{base_dir}/registered_1\"\n",
    "\n",
    "\n",
    "all_chns = ['T1', 'CT1', 'T2', 'FLAIR']\n",
    "template = 'CT1'\n",
    "inp_chns = [c for c in all_chns if c != template]  \n",
    "\n",
    "\n",
    "colors = [(1, 0, 0), (0, 0, 1), (0, 1, 0)]  # R -> B -> G\n",
    "n_bins = [2, 3, 6, 10, 100]  # Discretizes the interpolation into bins\n",
    "cmap_name = 'my_cm'\n",
    "cm = LinearSegmentedColormap.from_list(cmap_name, colors, N=n_bins[0])"
   ]
  },
  {
   "attachments": {},
   "cell_type": "markdown",
   "metadata": {},
   "source": [
    "### check if all directories in easyreg_dir contains 4 files"
   ]
  },
  {
   "cell_type": "code",
   "execution_count": 4,
   "metadata": {},
   "outputs": [],
   "source": [
    "for d in os.listdir(easyreg_dir):\n",
    "    if len(os.listdir(f\"{easyreg_dir}/{d}\")) != 4:\n",
    "        print(f\"Directory {d} does not contain 4 files\")"
   ]
  },
  {
   "cell_type": "markdown",
   "metadata": {},
   "source": [
    "## Applying registration from MRI_recurrent to MRI_diagnosis (MRI_diagnosis is template, MRI_recurrent is moving)"
   ]
  },
  {
   "cell_type": "markdown",
   "metadata": {},
   "source": [
    "In the below code, ANTsPy is used for image registration, which is the process of transforming different sets of data into one coordinate system. This is often necessary in the medical imaging field, where images from different modalities or taken at different times need to be aligned to perform further analysis.\n",
    "\n",
    "Here's a step-by-step breakdown of how ANTsPy is used in the code:\n",
    "\n",
    "1. **Image Reading**: The `ants.image_read()` function is used to read the fixed and moving images. The fixed image is the reference image to which the moving image will be aligned.\n",
    "\n",
    "    ```python\n",
    "    fixed_image = ants.image_read(fixed_image_path)\n",
    "    moving_image = ants.image_read(moving_image_path)\n",
    "    ```\n",
    "\n",
    "2. **Image Registration**: The `ants.registration()` function is used to perform the registration. The `type_of_transform` parameter is set to `'SyN'`, which stands for Symmetric Normalization. This is a powerful, high-dimensional, diffeomorphic image registration algorithm.\n",
    "\n",
    "    ```python\n",
    "    transform = ants.registration(fixed_image, moving_image, type_of_transform='SyN')\n",
    "    ```\n",
    "\n",
    "3. **Applying Transforms**: The `ants.apply_transforms()` function is used to apply the calculated transformation to the moving image. This function takes the fixed image, the moving image, and the transformation list as arguments, and returns the moving image transformed into the space of the fixed image.\n",
    "\n",
    "    ```python\n",
    "    registered_CT1 = ants.apply_transforms(fixed=ants.image_read(ref_CT1_coreg), \n",
    "                                           moving=ants.image_read(exam_CT1_coreg),\n",
    "                                           transformlist=transform['fwdtransforms'])\n",
    "    ```\n",
    "\n",
    "4. **Image Writing**: The `ants.image_write()` function is used to write the registered image to a file.\n",
    "\n",
    "    ```python\n",
    "    ants.image_write(registered_CT1, output_CT1_coreg)\n",
    "    ```\n",
    "\n",
    "This process is repeated for each exam and each modality, allowing all images to be aligned to the same reference image."
   ]
  },
  {
   "cell_type": "markdown",
   "metadata": {},
   "source": [
    "## ANTsPy with nearest neighbor interpolation for segment_glioma"
   ]
  },
  {
   "cell_type": "code",
   "execution_count": 6,
   "metadata": {},
   "outputs": [
    {
     "data": {
      "text/plain": [
       "['10_036_20150101', '10_036_20160529']"
      ]
     },
     "execution_count": 6,
     "metadata": {},
     "output_type": "execute_result"
    }
   ],
   "source": [
    "exams_list_site = sorted([x for x in next(os.walk(easyreg_dir))[1]])\n",
    "exams_list_site"
   ]
  },
  {
   "cell_type": "markdown",
   "metadata": {},
   "source": [
    "### Defining the list of exams that is undergoing transformation - per patient"
   ]
  },
  {
   "cell_type": "code",
   "execution_count": 7,
   "metadata": {},
   "outputs": [],
   "source": [
    "# defining the exams list, where the first exam is the temolate and the second exam is moving\n",
    "exams_list = [\n",
    " '10_036_20150101',\n",
    " '10_036_20160529',\n",
    "]"
   ]
  },
  {
   "cell_type": "markdown",
   "metadata": {},
   "source": [
    "# Performing the transformation"
   ]
  },
  {
   "cell_type": "code",
   "execution_count": 7,
   "metadata": {},
   "outputs": [
    {
     "name": "stdout",
     "output_type": "stream",
     "text": [
      "Registration completed and exams moved to the registered directory.\n"
     ]
    }
   ],
   "source": [
    "# Create a dictionary to group exams by subject\n",
    "subject_exams = {}\n",
    "for exam in exams_list:\n",
    "    subject_id = exam[:6]\n",
    "    if subject_id not in subject_exams:\n",
    "        subject_exams[subject_id] = []\n",
    "    subject_exams[subject_id].append(exam)\n",
    "\n",
    "# Function to perform deformable registration\n",
    "def deformable_registration(fixed_image_path, moving_image_path):\n",
    "    # Load the images\n",
    "    fixed_image = ants.image_read(fixed_image_path)\n",
    "    moving_image = ants.image_read(moving_image_path)\n",
    "\n",
    "    # Perform registration\n",
    "    transform = ants.registration(fixed_image, moving_image, type_of_transform='SyN')\n",
    "\n",
    "    return transform\n",
    "\n",
    "# Loop over each subject\n",
    "for subject_id, exams in subject_exams.items():\n",
    "    # Sort exams by date to ensure the first date is the reference\n",
    "    exams.sort()\n",
    "    \n",
    "    # Reference exam\n",
    "    reference_exam = exams[0]\n",
    "    ref_CT1_coreg = f\"{easyreg_dir}/{reference_exam}/{reference_exam}_CT1_coreg.nii.gz\"\n",
    "\n",
    "    # Check if the reference image exists\n",
    "    if not os.path.exists(ref_CT1_coreg):\n",
    "        print(f\"Reference image {ref_CT1_coreg} does not exist. Skipping this exam.\")\n",
    "        continue\n",
    "    \n",
    "    # Create a directory for the registered images if it doesn't exist\n",
    "    subject_registered_dir = f\"{registered_dir}/{subject_id}\"\n",
    "    os.makedirs(subject_registered_dir, exist_ok=True)\n",
    "    \n",
    "    # Loop over other exams and register them to the reference\n",
    "    for exam in exams[1:]:\n",
    "        exam_CT1_coreg = f\"{easyreg_dir}/{exam}/{exam}_CT1_coreg.nii.gz\"\n",
    "        output_CT1_coreg = f\"{subject_registered_dir}/{exam}_CT1_coreg_registered_to_{reference_exam}.nii.gz\"\n",
    "\n",
    "        # Check if the exam image exists\n",
    "        if not os.path.exists(exam_CT1_coreg):\n",
    "            print(f\"Exam image {exam_CT1_coreg} does not exist. Skipping this exam.\")\n",
    "            continue\n",
    "\n",
    "        # Perform deformable registration\n",
    "        transform = deformable_registration(ref_CT1_coreg, exam_CT1_coreg)\n",
    "\n",
    "        # Save the registered CT1 image\n",
    "        registered_CT1 = ants.apply_transforms(\n",
    "            fixed=ants.image_read(ref_CT1_coreg), \n",
    "            moving=ants.image_read(exam_CT1_coreg),\n",
    "            transformlist=transform['fwdtransforms']\n",
    "        )\n",
    "        ants.image_write(registered_CT1, output_CT1_coreg)\n",
    "\n",
    "        # Register other modalities using the same transformation\n",
    "        modalities = ['T1', 'T2', 'FLAIR', 'synthseg', 'segmentation_native']\n",
    "        for modality in modalities:\n",
    "            if modality ==  'segmentation_native':\n",
    "                moving_image_path = f\"{segment_glioma_dir}/{exam}/segmentation_native_{exam}_CT1_coreg.nii.gz\"\n",
    "                output_path = f\"{subject_registered_dir}/segmentation_native_{exam}_CT1_coreg_registered_to_{reference_exam}.nii.gz\"\n",
    "                interpolator = 'nearestNeighbor'\n",
    "            else:\n",
    "                moving_image_path = f\"{easyreg_dir}/{exam}/{exam}_{modality}_coreg.nii.gz\"\n",
    "                output_path = f\"{subject_registered_dir}/{exam}_{modality}_coreg_registered_to_{reference_exam}.nii.gz\"\n",
    "                interpolator = 'linear'  # Use linear interpolation for continuous data\n",
    "            \n",
    "            # Check if the modality file exists before applying the transformation\n",
    "            if not os.path.exists(moving_image_path):\n",
    "                print(f\"Modality file {moving_image_path} does not exist. Skipping this modality.\")\n",
    "                continue\n",
    "            \n",
    "            # Apply the transformation to other modalities\n",
    "            registered_image = ants.apply_transforms(\n",
    "                fixed=ants.image_read(ref_CT1_coreg), \n",
    "                moving=ants.image_read(moving_image_path),\n",
    "                transformlist=transform['fwdtransforms'],\n",
    "                interpolator=interpolator  # Pass the appropriate interpolator here\n",
    "            )\n",
    "            ants.image_write(registered_image, output_path)\n",
    "    \n",
    "    # Copy the native segmentation of the reference exam into registered_dir/subject_id\n",
    "    segmentation_native_path = f\"{segment_glioma_dir}/{reference_exam}/segmentation_native_{reference_exam}_CT1_coreg.nii.gz\"\n",
    "    shutil.copy(segmentation_native_path, subject_registered_dir)\n",
    "\n",
    "    # Copy the T1, T2, FLAIR, CT1 of the reference exam into registered_dir/subject_id\n",
    "    for modality in ['T1', 'T2', 'FLAIR', 'CT1']:\n",
    "        modality_path = f\"{easyreg_dir}/{reference_exam}/{reference_exam}_{modality}_coreg.nii.gz\"\n",
    "        shutil.copy(modality_path, subject_registered_dir)\n",
    "\n",
    "    # Once all registrations for a subject are done, move the processed exams to the registered directory\n",
    "    for exam in exams:\n",
    "        exam_source_dir = f\"{easyreg_dir}/{exam}\"\n",
    "        exam_target_dir = f\"{registered_dir}/{subject_id}/{exam}\"\n",
    "        \n",
    "        if not os.path.exists(exam_target_dir):\n",
    "            shutil.copytree(exam_source_dir, exam_target_dir)\n",
    "\n",
    "print(\"Registration completed and exams moved to the registered directory.\")\n"
   ]
  },
  {
   "cell_type": "markdown",
   "metadata": {},
   "source": [
    "# Calculating the (transformed) volumes"
   ]
  },
  {
   "cell_type": "code",
   "execution_count": 8,
   "metadata": {},
   "outputs": [
    {
     "name": "stdout",
     "output_type": "stream",
     "text": [
      "['10_036_20150101', '10_036_20160529']\n",
      "Exam 1: 10_036_20150101\n",
      "Exam 2: 10_036_20160529\n",
      "/home/marianne/prj/glioma_recurrence/glioma_recurrence/data/10/registered/10_036/10_036_20150101\n"
     ]
    }
   ],
   "source": [
    "exam1 = exams_list[0]\n",
    "exam2 = exams_list[-1]\n",
    "\n",
    "home = os.path.expanduser(\"~\")\n",
    "PRJ_DIR = f'{home}/prj/glioma_recurrence/glioma_recurrence/data/{SITE}'\n",
    "REGISTERED_dir = f'{PRJ_DIR}/registered/{exam1[:6]}'\n",
    "\n",
    "# exams_list is defined in the previous cell, performing the ANTS registration\n",
    "print(exams_list)\n",
    "print(\"Exam 1:\", exam1)\n",
    "print(\"Exam 2:\", exam2)\n",
    "print(f'{REGISTERED_dir}/{exam1}')"
   ]
  },
  {
   "cell_type": "code",
   "execution_count": 9,
   "metadata": {},
   "outputs": [
    {
     "name": "stdout",
     "output_type": "stream",
     "text": [
      "exam1 (reference): 10_036_20150101\n",
      "exam2 (moving): 10_036_20160529\n",
      "REGISTERED_dir: /home/marianne/prj/glioma_recurrence/glioma_recurrence/data/10/registered/10_036\n",
      "Calculating volumes for moving: /home/marianne/prj/glioma_recurrence/glioma_recurrence/data/10/registered/10_036/10_036_20160529_CT1_coreg_synthseg_parc_robust_registered_to_10_036_20150101.nii.gz\n",
      "\n",
      "7.4.1\n",
      "cwd \n",
      "cmdline mri_segstats --seg /home/marianne/prj/glioma_recurrence/glioma_recurrence/data/10/registered/10_036/10_036_20160529_CT1_coreg_synthseg_parc_robust_registered_to_10_036_20150101.nii.gz --i /home/marianne/prj/glioma_recurrence/glioma_recurrence/data/10/registered/10_036/10_036_20160529_CT1_coreg_synthseg_parc_robust_registered_to_10_036_20150101.nii.gz --sum /home/marianne/prj/glioma_recurrence/glioma_recurrence/data/10/registered/10_036/10_036_20160529_CT1_coreg_synthseg_parc_robust_registered_to_10_036_20150101_vol.csv \n",
      "sysname  Linux\n",
      "hostname MariannePrecision7680\n",
      "machine  x86_64\n",
      "user     marianne\n",
      "whitesurfname  white\n",
      "UseRobust  0\n",
      "Loading /home/marianne/prj/glioma_recurrence/glioma_recurrence/data/10/registered/10_036/10_036_20160529_CT1_coreg_synthseg_parc_robust_registered_to_10_036_20150101.nii.gz\n",
      "Loading /home/marianne/prj/glioma_recurrence/glioma_recurrence/data/10/registered/10_036/10_036_20160529_CT1_coreg_synthseg_parc_robust_registered_to_10_036_20150101.nii.gz\n",
      "Voxel Volume is 1 mm^3\n",
      "Generating list of segmentation ids\n",
      "Found  99 segmentations\n",
      "Computing statistics for each segmentation\n",
      "\n",
      "Reporting on  99 segmentations\n",
      "Using PrintSegStat\n",
      "mri_segstats done\n",
      "Volume calculations completed.\n",
      "Moving volume file: /home/marianne/prj/glioma_recurrence/glioma_recurrence/data/10/registered/10_036/10_036_20160529_CT1_coreg_synthseg_parc_robust_registered_to_10_036_20150101_vol.csv\n"
     ]
    }
   ],
   "source": [
    "%%bash -s \"$exam1\" \"$exam2\" \"$REGISTERED_dir\"\n",
    "\n",
    "echo \"exam1 (reference): $1\"\n",
    "echo \"exam2 (moving): $2\"\n",
    "echo \"REGISTERED_dir: $3\"\n",
    "\n",
    "# Define paths for synthseg segmentations\n",
    "segmentation_moving=\"${3}/${2}_CT1_coreg_synthseg_parc_robust_registered_to_${1}.nii.gz\"\n",
    "\n",
    "# Vol file paths\n",
    "vol_file_moving=\"${3}/${2}_CT1_coreg_synthseg_parc_robust_registered_to_${1}_vol.csv\"\n",
    "\n",
    "# Set up FreeSurfer environment\n",
    "FREESURFER_HOME=/usr/local/freesurfer; export FREESURFER_HOME\n",
    "export PATH=${FREESURFER_HOME}/bin:${PATH}\n",
    "source ${FREESURFER_HOME}/SetUpFreeSurfer.sh\n",
    "\n",
    "# Recalculate volumes for the registered moving segmentation\n",
    "echo \"Calculating volumes for moving: $segmentation_moving\"\n",
    "mri_segstats --seg $segmentation_moving --i $segmentation_moving --sum $vol_file_moving\n",
    "\n",
    "# Output the paths to the vol files\n",
    "echo \"Volume calculations completed.\"\n",
    "echo \"Moving volume file: $vol_file_moving\"\n"
   ]
  },
  {
   "cell_type": "markdown",
   "metadata": {},
   "source": [
    "## Display output in freeview"
   ]
  },
  {
   "cell_type": "code",
   "execution_count": 10,
   "metadata": {},
   "outputs": [
    {
     "name": "stdout",
     "output_type": "stream",
     "text": [
      "['10_036_20150101', '10_036_20160529']\n",
      "Exam 1: 10_036_20150101\n",
      "Exam 2: 10_036_20160529\n",
      "/home/marianne/prj/glioma_recurrence/glioma_recurrence/data/10/registered/10_036/10_036_20150101\n"
     ]
    }
   ],
   "source": [
    "exam1 = exams_list[0]\n",
    "exam2 = exams_list[-1]\n",
    "\n",
    "home = os.path.expanduser(\"~\")\n",
    "PRJ_DIR = f'{home}/prj/glioma_recurrence/glioma_recurrence/data/{SITE}'\n",
    "REGISTERED_dir = f'{PRJ_DIR}/registered/{exam1[:6]}'\n",
    "\n",
    "# exams_list is defined in the previous cell, performing the ANTS registration\n",
    "print(exams_list)\n",
    "print(\"Exam 1:\", exam1)\n",
    "print(\"Exam 2:\", exam2)\n",
    "print(f'{REGISTERED_dir}/{exam1}')"
   ]
  },
  {
   "cell_type": "code",
   "execution_count": 11,
   "metadata": {},
   "outputs": [
    {
     "name": "stdout",
     "output_type": "stream",
     "text": [
      "exam1 (reference): 10_036_20150101\n",
      "exam2 (moving): 10_036_20160529\n",
      "REGISTERED_DIR: /home/marianne/prj/glioma_recurrence/glioma_recurrence/data/10/registered/10_036\n",
      "Checking paths...\n",
      "/home/marianne/prj/glioma_recurrence/glioma_recurrence/data/10/registered/10_036/10_036_20150101_FLAIR_coreg.nii.gz\n",
      "/home/marianne/prj/glioma_recurrence/glioma_recurrence/data/10/registered/10_036/10_036_20160529_FLAIR_coreg_registered_to_10_036_20150101.nii.gz\n",
      "/home/marianne/prj/glioma_recurrence/glioma_recurrence/data/10/registered/10_036/10_036_20150101_T2_coreg.nii.gz\n",
      "/home/marianne/prj/glioma_recurrence/glioma_recurrence/data/10/registered/10_036/10_036_20160529_T2_coreg_registered_to_10_036_20150101.nii.gz\n",
      "/home/marianne/prj/glioma_recurrence/glioma_recurrence/data/10/registered/10_036/10_036_20150101_CT1_coreg.nii.gz\n",
      "/home/marianne/prj/glioma_recurrence/glioma_recurrence/data/10/registered/10_036/10_036_20160529_CT1_coreg_registered_to_10_036_20150101.nii.gz\n",
      "/home/marianne/prj/glioma_recurrence/glioma_recurrence/data/10/registered/10_036/10_036_20150101_T1_coreg.nii.gz\n",
      "/home/marianne/prj/glioma_recurrence/glioma_recurrence/data/10/registered/10_036/10_036_20160529_T1_coreg_registered_to_10_036_20150101.nii.gz\n",
      "/home/marianne/prj/glioma_recurrence/glioma_recurrence/data/10/registered/10_036/10_036_20150101_CT1_synthseg_parc_robust.nii.gz\n",
      "/home/marianne/prj/glioma_recurrence/glioma_recurrence/data/10/registered/10_036/segmentation_native_10_036_20150101_CT1_coreg.nii.gz\n",
      "/home/marianne/prj/glioma_recurrence/glioma_recurrence/data/10/registered/10_036/10_036_20160529_CT1_coreg_synthseg_parc_robust_registered_to_10_036_20150101.nii.gz\n",
      "/home/marianne/prj/glioma_recurrence/glioma_recurrence/data/10/registered/10_036/segmentation_native_10_036_20160529_CT1_coreg_registered_to_10_036_20150101.nii.gz\n"
     ]
    },
    {
     "name": "stderr",
     "output_type": "stream",
     "text": [
      "INFO: using NIfTI-1 qform \n",
      "INFO: using NIfTI-1 qform \n",
      "INFO: using NIfTI-1 qform \n",
      "INFO: using NIfTI-1 qform \n",
      "INFO: using NIfTI-1 qform \n",
      "INFO: using NIfTI-1 qform \n",
      "INFO: using NIfTI-1 qform \n",
      "INFO: using NIfTI-1 qform \n"
     ]
    }
   ],
   "source": [
    "%%bash -s \"$exam1\" \"$exam2\" \"$REGISTERED_dir\"\n",
    "\n",
    "echo \"exam1 (reference): $1\"\n",
    "echo \"exam2 (moving): $2\"\n",
    "echo \"REGISTERED_DIR: $3\"\n",
    "\n",
    "# Print all paths to verify\n",
    "echo \"Checking paths...\"\n",
    "for modality in FLAIR T2 CT1 T1; do\n",
    "    echo \"${3}/${1}_${modality}_coreg.nii.gz\"\n",
    "    echo \"${3}/${2}_${modality}_coreg_registered_to_${1}.nii.gz\"\n",
    "done\n",
    "\n",
    "echo \"${3}/${1}_CT1_synthseg_parc_robust.nii.gz\"\n",
    "echo \"${3}/segmentation_native_${1}_CT1_coreg.nii.gz\"\n",
    "echo \"${3}/${2}_CT1_coreg_synthseg_parc_robust_registered_to_${1}.nii.gz\"\n",
    "echo \"${3}/segmentation_native_${2}_CT1_coreg_registered_to_${1}.nii.gz\"\n",
    "\n",
    "# Set up FreeSurfer and FSL environments\n",
    "# Uncomment the MacOS line if running on a Mac\n",
    "# FREESURFER_HOME=/Applications/freesurfer/7.4.1; export FREESURFER_HOME #MacOS\n",
    "FREESURFER_HOME=/usr/local/freesurfer; export FREESURFER_HOME\n",
    "export PATH=${FREESURFER_HOME}/bin:${PATH}\n",
    "\n",
    "FSLDIR=/usr/local/fsl; export FSLDIR\n",
    "export PATH=${FSLDIR}/bin:${PATH}\n",
    ". ${FSLDIR}/etc/fslconf/fsl.sh\n",
    "source ${FREESURFER_HOME}/SetUpFreeSurfer.sh\n",
    "\n",
    "# Launch Freeview with the specified images and parameters\n",
    "freeview -v \\\n",
    "${3}/${2}_FLAIR_coreg_registered_to_${1}.nii.gz \\\n",
    "${3}/${2}_T2_coreg_registered_to_${1}.nii.gz \\\n",
    "${3}/${2}_T1_coreg_registered_to_${1}.nii.gz \\\n",
    "${3}/${2}_CT1_coreg_registered_to_${1}.nii.gz \\\n",
    "${3}/${1}_FLAIR_coreg.nii.gz \\\n",
    "${3}/${1}_T2_coreg.nii.gz \\\n",
    "${3}/${1}_T1_coreg.nii.gz \\\n",
    "${3}/${1}_CT1_coreg.nii.gz \\\n",
    "${3}/segmentation_native_${2}_CT1_coreg_registered_to_${1}.nii.gz:colormap=lut:opacity=0.4 \\\n",
    "${3}/segmentation_native_${1}_CT1_coreg.nii.gz:colormap=lut:opacity=0.4 \\\n",
    "-ras -30 40 18\n"
   ]
  },
  {
   "cell_type": "code",
   "execution_count": null,
   "metadata": {},
   "outputs": [],
   "source": []
  }
 ],
 "metadata": {
  "kernelspec": {
   "display_name": "Python 3 (ipykernel)",
   "language": "python",
   "name": "python3"
  },
  "language_info": {
   "codemirror_mode": {
    "name": "ipython",
    "version": 3
   },
   "file_extension": ".py",
   "mimetype": "text/x-python",
   "name": "python",
   "nbconvert_exporter": "python",
   "pygments_lexer": "ipython3",
   "version": "3.11.9"
  }
 },
 "nbformat": 4,
 "nbformat_minor": 4
}

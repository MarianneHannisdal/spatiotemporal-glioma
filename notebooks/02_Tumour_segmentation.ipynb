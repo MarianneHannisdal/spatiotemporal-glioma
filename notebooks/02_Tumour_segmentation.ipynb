{
 "cells": [
  {
   "attachments": {},
   "cell_type": "markdown",
   "metadata": {},
   "source": [
    "# 02 Tumour segmentation using the pre-trained 'segment_glioma' model\n",
    "\n",
    "\n",
    "Arvid Lundervold/Marianne Hannisdal\n",
    "\n",
    "Last updated: **2025-03-13**  "
   ]
  },
  {
   "cell_type": "markdown",
   "metadata": {},
   "source": [
    "Kernel: segment_glioma (Python 3.9.19)"
   ]
  },
  {
   "cell_type": "code",
   "execution_count": 4,
   "metadata": {},
   "outputs": [
    {
     "name": "stdout",
     "output_type": "stream",
     "text": [
      "True\n"
     ]
    }
   ],
   "source": [
    "import torch\n",
    "print(torch.cuda.is_available())\n"
   ]
  },
  {
   "cell_type": "code",
   "execution_count": 5,
   "metadata": {},
   "outputs": [
    {
     "name": "stdout",
     "output_type": "stream",
     "text": [
      "Thu Mar 13 18:31:40 2025       \n",
      "+---------------------------------------------------------------------------------------+\n",
      "| NVIDIA-SMI 535.183.06             Driver Version: 535.183.06   CUDA Version: 12.2     |\n",
      "|-----------------------------------------+----------------------+----------------------+\n",
      "| GPU  Name                 Persistence-M | Bus-Id        Disp.A | Volatile Uncorr. ECC |\n",
      "| Fan  Temp   Perf          Pwr:Usage/Cap |         Memory-Usage | GPU-Util  Compute M. |\n",
      "|                                         |                      |               MIG M. |\n",
      "|=========================================+======================+======================|\n",
      "|   0  NVIDIA RTX 3500 Ada Gene...    On  | 00000000:01:00.0 Off |                  Off |\n",
      "| N/A   45C    P8              10W /  90W |     11MiB / 12282MiB |      0%      Default |\n",
      "|                                         |                      |                  N/A |\n",
      "+-----------------------------------------+----------------------+----------------------+\n",
      "                                                                                         \n",
      "+---------------------------------------------------------------------------------------+\n",
      "| Processes:                                                                            |\n",
      "|  GPU   GI   CI        PID   Type   Process name                            GPU Memory |\n",
      "|        ID   ID                                                             Usage      |\n",
      "|=======================================================================================|\n",
      "|    0   N/A  N/A      1569      G   /usr/lib/xorg/Xorg                            4MiB |\n",
      "+---------------------------------------------------------------------------------------+\n"
     ]
    }
   ],
   "source": [
    "!nvidia-smi"
   ]
  },
  {
   "cell_type": "markdown",
   "metadata": {},
   "source": [
    "### Import libraries we will use"
   ]
  },
  {
   "cell_type": "code",
   "execution_count": 6,
   "metadata": {},
   "outputs": [],
   "source": [
    "import os\n",
    "os.environ['NUMEXPR_MAX_THREADS'] = '18'"
   ]
  },
  {
   "cell_type": "code",
   "execution_count": 7,
   "metadata": {
    "scrolled": true,
    "tags": []
   },
   "outputs": [],
   "source": [
    "# Import libraries\n",
    "import os\n",
    "import os.path as op\n",
    "import glob\n",
    "import shutil\n",
    "import subprocess as subp\n",
    "import pathlib\n",
    "import platform\n",
    "import shutil\n",
    "import IPython\n",
    "from datetime import date\n",
    "import warnings\n",
    "import numpy as np\n",
    "import pandas as pd\n",
    "from tqdm import tqdm\n",
    "import nibabel as nib\n",
    "from nibabel.viewers import OrthoSlicer3D\n",
    "import matplotlib.pyplot as plt\n",
    "from matplotlib.colors import LinearSegmentedColormap\n",
    "import pickle\n",
    "import pydicom\n",
    "from pydicom import dcmread\n",
    "# import imageio\n",
    "import imageio.v2 as imageio\n",
    "\n",
    "%matplotlib inline\n",
    "home = os.path.expanduser('~')            # To make a path to local home directory\n",
    "                       \n",
    "warnings.filterwarnings('ignore')  # To ignore warnings \n",
    "  "
   ]
  },
  {
   "cell_type": "code",
   "execution_count": 8,
   "metadata": {},
   "outputs": [
    {
     "name": "stdout",
     "output_type": "stream",
     "text": [
      "platform: Linux-6.8.0-45-generic-x86_64-with-glibc2.39\n",
      "python version: 3.9.19\n",
      "pydicom version: 2.4.4\n",
      "nibabel version: 5.2.1\n",
      "pandas version: 2.2.2\n",
      "numpy version: 1.26.4\n"
     ]
    }
   ],
   "source": [
    "print(f'platform: {platform.platform()}')\n",
    "print(f'python version: {platform.python_version()}')\n",
    "print(f'pydicom version: {pydicom.__version__}')\n",
    "print(f'nibabel version: {nib.__version__}')\n",
    "print(f'pandas version: {pd.__version__}')\n",
    "print(f'numpy version: {np.__version__}')\n"
   ]
  },
  {
   "cell_type": "code",
   "execution_count": 9,
   "metadata": {
    "tags": []
   },
   "outputs": [],
   "source": [
    "verbose = True"
   ]
  },
  {
   "attachments": {},
   "cell_type": "markdown",
   "metadata": {},
   "source": [
    "**Defining relevant directories:**"
   ]
  },
  {
   "cell_type": "code",
   "execution_count": null,
   "metadata": {},
   "outputs": [],
   "source": [
    "PRJ_DIR = f'{home}/prj/glioma_recurrence/glioma_recurrence'\n",
    "SITE = '10'\n",
    "EASYREG_dir = f'{PRJ_DIR}/data/{SITE}/easyreg_1'\n",
    "SEGMENT_GLIOMA_dir = f'{PRJ_DIR}/data/{SITE}/segment_glioma_'"
   ]
  },
  {
   "attachments": {},
   "cell_type": "markdown",
   "metadata": {},
   "source": [
    "**Define all the channels and get a list of all subjects in the directory:**"
   ]
  },
  {
   "cell_type": "code",
   "execution_count": 14,
   "metadata": {
    "tags": []
   },
   "outputs": [
    {
     "name": "stdout",
     "output_type": "stream",
     "text": [
      "1 examinations:\n",
      "[\n",
      "'10_036_20150101',\n",
      "]\n"
     ]
    }
   ],
   "source": [
    "all_chns = ['T1', 'CT1', 'T2', 'FLAIR']\n",
    "#all_chns = ['CT1']\n",
    "\n",
    "all_dirs = sorted(glob.glob(f'{EASYREG_dir}/{SITE}_*'))    # exams from local recordings\n",
    "subjs = [ os.path.basename(d) for d in all_dirs]\n",
    "n = len(subjs)\n",
    "\n",
    "print(f'{n} examinations:')\n",
    "print('[')\n",
    "for i, sub in enumerate(subjs):\n",
    "      print(f\"'{sub}',\")\n",
    "print(']')"
   ]
  },
  {
   "cell_type": "markdown",
   "metadata": {},
   "source": [
    "## Running PICTURES's `segment_glioma` on coregistered mpMRI images\n"
   ]
  },
  {
   "cell_type": "code",
   "execution_count": 19,
   "metadata": {},
   "outputs": [
    {
     "name": "stdout",
     "output_type": "stream",
     "text": [
      "\u001b[2;36m[13:39:39]\u001b[0m\u001b[2;36m \u001b[0m\u001b[34mINFO    \u001b[0m platform: linux                            \u001b]8;id=355899;file:///home/marianne/anaconda3/envs/segment_glioma/lib/python3.9/site-packages/picture_nnunet_package/doInference.py\u001b\\\u001b[2mdoInference.py\u001b[0m\u001b]8;;\u001b\\\u001b[2m:\u001b[0m\u001b]8;id=333569;file:///home/marianne/anaconda3/envs/segment_glioma/lib/python3.9/site-packages/picture_nnunet_package/doInference.py#14\u001b\\\u001b[2m14\u001b[0m\u001b]8;;\u001b\\\n",
      "\u001b[2;36m[13:39:40]\u001b[0m\u001b[2;36m \u001b[0m\u001b[34mINFO    \u001b[0m Found GPU, using cuda device \u001b[1;36m0\u001b[0m: NVIDIA RTX \u001b]8;id=22763;file:///home/marianne/anaconda3/envs/segment_glioma/lib/python3.9/site-packages/picture_nnunet_package/doInference.py\u001b\\\u001b[2mdoInference.py\u001b[0m\u001b]8;;\u001b\\\u001b[2m:\u001b[0m\u001b]8;id=826317;file:///home/marianne/anaconda3/envs/segment_glioma/lib/python3.9/site-packages/picture_nnunet_package/doInference.py#19\u001b\\\u001b[2m19\u001b[0m\u001b]8;;\u001b\\\n",
      "\u001b[2;36m           \u001b[0m         \u001b[1;36m3500\u001b[0m Ada Generation Laptop GPU             \u001b[2m                 \u001b[0m\n",
      "\u001b[1m                                                                                \u001b[0m\n",
      "\u001b[1m \u001b[0m\u001b[1;33mUsage: \u001b[0m\u001b[1msegment_glioma [OPTIONS] T1CE\u001b[0m\u001b[1m                                          \u001b[0m\u001b[1m \u001b[0m\n",
      "\u001b[1m                                                                                \u001b[0m\n",
      " Performs automatic glioma segmentation using nnUNet, trained using sparsified  \n",
      " training on BRATS and PICTURE data.  See                                       \n",
      " https://gitlab.com/picture-production/ for details.                            \n",
      " \u001b[2mSUPPORTED SESSIONTYPES: preop: 1. Edema / non-enhancing tumor | 2. Necrotic \u001b[0m   \n",
      " \u001b[2mcore (HGG) / non-enhancing solid tumor (LGG) | 3. Enhancing tumor  postop: 1. \u001b[0m \n",
      " \u001b[2mEnhancing tumor-residu postop_beta: 1. Non-enhancing tumor residu* | 2. Cavity\u001b[0m \n",
      " \u001b[2m| 3. Enhancing tumor residu *By HD-Glio\u001b[0m                                        \n",
      " \u001b[2m:param t1ce:  Nifti (.nii.gz) file containing T1w+contrast agent scan of \u001b[0m      \n",
      " \u001b[2mglioma patient (Required) :param t1:    Nifti (.nii.gz) file containing T1w   \u001b[0m \n",
      " \u001b[2mscan of glioma patient (Optional) :param t2:    Nifti (.nii.gz) file \u001b[0m          \n",
      " \u001b[2mcontaining T2w                scan of glioma patient (Optional) :param flair: \u001b[0m \n",
      " \u001b[2mNifti (.nii.gz) file containing flair              scan of glioma patient \u001b[0m     \n",
      " \u001b[2m(Optional) :param sessionType: Default: preop, options: preop, postop, \u001b[0m        \n",
      " \u001b[2mpostop_beta (optional) :param remove_intermediate_files: delete working \u001b[0m       \n",
      " \u001b[2mdirectory containing transforms, preprocessed images etc. :param \u001b[0m              \n",
      " \u001b[2mskip_skullstrip: skips skullstrip, assuming data is already skullstripped and \u001b[0m \n",
      " \u001b[2musing T1c-image >0 as brainmask :param mni: All models have been trained and \u001b[0m  \n",
      " \u001b[2mtested using SRI standard space, \u001b[0m\u001b[1;2;36m-\u001b[0m\u001b[1;2;36m-mni\u001b[0m\u001b[2m = True forces to use MNI as standard \u001b[0m   \n",
      " \u001b[2mspace instead, this feature has not been tested. :param wdir_postfix: \u001b[0m         \n",
      " \u001b[2mSub-directory of the working-directory. Defaults to a random string to ensure \u001b[0m \n",
      " \u001b[2ma unique working directory if ran multiple times for different patients.\u001b[0m       \n",
      "                                                                                \n",
      "\u001b[2m╭─\u001b[0m\u001b[2m Arguments \u001b[0m\u001b[2m─────────────────────────────────────────────────────────────────\u001b[0m\u001b[2m─╮\u001b[0m\n",
      "\u001b[2m│\u001b[0m \u001b[31m*\u001b[0m    t1ce      \u001b[1;33mTEXT\u001b[0m  \u001b[2m[default: None]\u001b[0m \u001b[2;31m[required]\u001b[0m                              \u001b[2m│\u001b[0m\n",
      "\u001b[2m╰──────────────────────────────────────────────────────────────────────────────╯\u001b[0m\n",
      "\u001b[2m╭─\u001b[0m\u001b[2m Options \u001b[0m\u001b[2m───────────────────────────────────────────────────────────────────\u001b[0m\u001b[2m─╮\u001b[0m\n",
      "\u001b[2m│\u001b[0m \u001b[1;36m-\u001b[0m\u001b[1;36m-t1\u001b[0m                          \u001b[1;33mTEXT                  \u001b[0m  \u001b[2m[default: None]\u001b[0m        \u001b[2m│\u001b[0m\n",
      "\u001b[2m│\u001b[0m \u001b[1;36m-\u001b[0m\u001b[1;36m-t2\u001b[0m                          \u001b[1;33mTEXT                  \u001b[0m  \u001b[2m[default: None]\u001b[0m        \u001b[2m│\u001b[0m\n",
      "\u001b[2m│\u001b[0m \u001b[1;36m-\u001b[0m\u001b[1;36m-flair\u001b[0m                       \u001b[1;33mTEXT                  \u001b[0m  \u001b[2m[default: None]\u001b[0m        \u001b[2m│\u001b[0m\n",
      "\u001b[2m│\u001b[0m \u001b[1;36m-\u001b[0m\u001b[1;36m-sessiontype\u001b[0m                 \u001b[1;33mTEXT                  \u001b[0m  \u001b[2m[default: preop]\u001b[0m       \u001b[2m│\u001b[0m\n",
      "\u001b[2m│\u001b[0m \u001b[1;36m-\u001b[0m\u001b[1;36m-remove\u001b[0m\u001b[1;36m-intermediate…\u001b[0m        \u001b[1;33mTEXT                  \u001b[0m  \u001b[2m[default: False]\u001b[0m       \u001b[2m│\u001b[0m\n",
      "\u001b[2m│\u001b[0m \u001b[1;36m-\u001b[0m\u001b[1;36m-mni\u001b[0m                         \u001b[1;33mTEXT                  \u001b[0m  \u001b[2m[default: False]\u001b[0m       \u001b[2m│\u001b[0m\n",
      "\u001b[2m│\u001b[0m \u001b[1;36m-\u001b[0m\u001b[1;36m-wdir\u001b[0m\u001b[1;36m-postfix\u001b[0m                \u001b[1;33mTEXT                  \u001b[0m  \u001b[2m[default: random]\u001b[0m      \u001b[2m│\u001b[0m\n",
      "\u001b[2m│\u001b[0m \u001b[1;36m-\u001b[0m\u001b[1;36m-skip\u001b[0m\u001b[1;36m-skullstrip\u001b[0m             \u001b[1;33mTEXT                  \u001b[0m  \u001b[2m[default: False]\u001b[0m       \u001b[2m│\u001b[0m\n",
      "\u001b[2m│\u001b[0m \u001b[1;36m-\u001b[0m\u001b[1;36m-install\u001b[0m\u001b[1;36m-completion\u001b[0m          \u001b[1;2;33m[\u001b[0m\u001b[1;33mbash\u001b[0m\u001b[1;2;33m|\u001b[0m\u001b[1;33mzsh\u001b[0m\u001b[1;2;33m|\u001b[0m\u001b[1;33mfish\u001b[0m\u001b[1;2;33m|\u001b[0m\u001b[1;33mpowersh\u001b[0m  Install completion for \u001b[2m│\u001b[0m\n",
      "\u001b[2m│\u001b[0m                               \u001b[1;33mell\u001b[0m\u001b[1;2;33m|\u001b[0m\u001b[1;33mpwsh\u001b[0m\u001b[1;2;33m]\u001b[0m\u001b[1;33m             \u001b[0m  the specified shell.   \u001b[2m│\u001b[0m\n",
      "\u001b[2m│\u001b[0m                                                       \u001b[2m[default: None]       \u001b[0m \u001b[2m│\u001b[0m\n",
      "\u001b[2m│\u001b[0m \u001b[1;36m-\u001b[0m\u001b[1;36m-show\u001b[0m\u001b[1;36m-completion\u001b[0m             \u001b[1;2;33m[\u001b[0m\u001b[1;33mbash\u001b[0m\u001b[1;2;33m|\u001b[0m\u001b[1;33mzsh\u001b[0m\u001b[1;2;33m|\u001b[0m\u001b[1;33mfish\u001b[0m\u001b[1;2;33m|\u001b[0m\u001b[1;33mpowersh\u001b[0m  Show completion for    \u001b[2m│\u001b[0m\n",
      "\u001b[2m│\u001b[0m                               \u001b[1;33mell\u001b[0m\u001b[1;2;33m|\u001b[0m\u001b[1;33mpwsh\u001b[0m\u001b[1;2;33m]\u001b[0m\u001b[1;33m             \u001b[0m  the specified shell,   \u001b[2m│\u001b[0m\n",
      "\u001b[2m│\u001b[0m                                                       to copy it or          \u001b[2m│\u001b[0m\n",
      "\u001b[2m│\u001b[0m                                                       customize the          \u001b[2m│\u001b[0m\n",
      "\u001b[2m│\u001b[0m                                                       installation.          \u001b[2m│\u001b[0m\n",
      "\u001b[2m│\u001b[0m                                                       \u001b[2m[default: None]       \u001b[0m \u001b[2m│\u001b[0m\n",
      "\u001b[2m│\u001b[0m \u001b[1;36m-\u001b[0m\u001b[1;36m-help\u001b[0m                        \u001b[1;33m                      \u001b[0m  Show this message and  \u001b[2m│\u001b[0m\n",
      "\u001b[2m│\u001b[0m                                                       exit.                  \u001b[2m│\u001b[0m\n",
      "\u001b[2m╰──────────────────────────────────────────────────────────────────────────────╯\u001b[0m\n",
      "\n"
     ]
    }
   ],
   "source": [
    "!segment_glioma --help"
   ]
  },
  {
   "cell_type": "code",
   "execution_count": 19,
   "metadata": {},
   "outputs": [
    {
     "name": "stdout",
     "output_type": "stream",
     "text": [
      "\u001b[01;34m/home/marianne/prj/glioma_recurrence/glioma_recurrence/data/10/easyreg_1\u001b[0m\n",
      "└── \u001b[01;34m10_036_20150101\u001b[0m\n",
      "\n",
      "1 directory, 0 files\n",
      "\n"
     ]
    }
   ],
   "source": [
    "# Execute tree command on the easyreg subdirecory \n",
    "print(os.popen(f'{TREE} {EASYREG_dir}').read())"
   ]
  },
  {
   "cell_type": "markdown",
   "metadata": {},
   "source": [
    "## Preoperative segment_glioma model"
   ]
  },
  {
   "cell_type": "code",
   "execution_count": 20,
   "metadata": {},
   "outputs": [
    {
     "name": "stdout",
     "output_type": "stream",
     "text": [
      "RUNNING EXAM: 10_036_20150101\n",
      "\u001b[2;36m[18:35:02]\u001b[0m\u001b[2;36m \u001b[0m\u001b[34mINFO    \u001b[0m platform: linux                            \u001b]8;id=611031;file:///home/marianne/anaconda3/envs/segment_glioma/lib/python3.9/site-packages/picture_nnunet_package/doInference.py\u001b\\\u001b[2mdoInference.py\u001b[0m\u001b]8;;\u001b\\\u001b[2m:\u001b[0m\u001b]8;id=675592;file:///home/marianne/anaconda3/envs/segment_glioma/lib/python3.9/site-packages/picture_nnunet_package/doInference.py#14\u001b\\\u001b[2m14\u001b[0m\u001b]8;;\u001b\\\n",
      "\u001b[2;36m          \u001b[0m\u001b[2;36m \u001b[0m\u001b[34mINFO    \u001b[0m Found GPU, using cuda device \u001b[1;36m0\u001b[0m: NVIDIA RTX \u001b]8;id=8916;file:///home/marianne/anaconda3/envs/segment_glioma/lib/python3.9/site-packages/picture_nnunet_package/doInference.py\u001b\\\u001b[2mdoInference.py\u001b[0m\u001b]8;;\u001b\\\u001b[2m:\u001b[0m\u001b]8;id=985666;file:///home/marianne/anaconda3/envs/segment_glioma/lib/python3.9/site-packages/picture_nnunet_package/doInference.py#19\u001b\\\u001b[2m19\u001b[0m\u001b]8;;\u001b\\\n",
      "\u001b[2;36m           \u001b[0m         \u001b[1;36m3500\u001b[0m Ada Generation Laptop GPU             \u001b[2m                 \u001b[0m\n",
      "\u001b[2;36m[18:35:06]\u001b[0m\u001b[2;36m \u001b[0m\u001b[34mINFO    \u001b[0m Running preop segmentation model          \u001b]8;id=100779;file:///home/marianne/anaconda3/envs/segment_glioma/lib/python3.9/site-packages/picture_nnunet_package/doInference.py\u001b\\\u001b[2mdoInference.py\u001b[0m\u001b]8;;\u001b\\\u001b[2m:\u001b[0m\u001b]8;id=577569;file:///home/marianne/anaconda3/envs/segment_glioma/lib/python3.9/site-packages/picture_nnunet_package/doInference.py#297\u001b\\\u001b[2m297\u001b[0m\u001b]8;;\u001b\\\n",
      "\u001b[2;36m          \u001b[0m\u001b[2;36m \u001b[0m\u001b[34mINFO    \u001b[0m working dir:      \u001b[35m/wdir/\u001b[0m\u001b[95mtmpw6rg02cd\u001b[0m       \u001b]8;id=726881;file:///home/marianne/anaconda3/envs/segment_glioma/lib/python3.9/site-packages/picture_nnunet_package/doInference.py\u001b\\\u001b[2mdoInference.py\u001b[0m\u001b]8;;\u001b\\\u001b[2m:\u001b[0m\u001b]8;id=865422;file:///home/marianne/anaconda3/envs/segment_glioma/lib/python3.9/site-packages/picture_nnunet_package/doInference.py#307\u001b\\\u001b[2m307\u001b[0m\u001b]8;;\u001b\\\n",
      "\u001b[2;36m          \u001b[0m\u001b[2;36m \u001b[0m\u001b[34mINFO    \u001b[0m \u001b[1;36m01\u001b[0m/\u001b[1;36m10\u001b[0m\u001b[1m)\u001b[0m Apply n4-bias correction            \u001b]8;id=338716;file:///home/marianne/anaconda3/envs/segment_glioma/lib/python3.9/site-packages/picture_nnunet_package/doInference.py\u001b\\\u001b[2mdoInference.py\u001b[0m\u001b]8;;\u001b\\\u001b[2m:\u001b[0m\u001b]8;id=306158;file:///home/marianne/anaconda3/envs/segment_glioma/lib/python3.9/site-packages/picture_nnunet_package/doInference.py#60\u001b\\\u001b[2m60\u001b[0m\u001b]8;;\u001b\\\n",
      "\u001b[2;36m[18:35:12]\u001b[0m\u001b[2;36m \u001b[0m\u001b[34mINFO    \u001b[0m \u001b[1;36m02\u001b[0m/\u001b[1;36m10\u001b[0m\u001b[1m)\u001b[0m Perform registration to atlas       \u001b]8;id=437334;file:///home/marianne/anaconda3/envs/segment_glioma/lib/python3.9/site-packages/picture_nnunet_package/doInference.py\u001b\\\u001b[2mdoInference.py\u001b[0m\u001b]8;;\u001b\\\u001b[2m:\u001b[0m\u001b]8;id=806073;file:///home/marianne/anaconda3/envs/segment_glioma/lib/python3.9/site-packages/picture_nnunet_package/doInference.py#90\u001b\\\u001b[2m90\u001b[0m\u001b]8;;\u001b\\\n",
      "\u001b[2;36m[18:35:24]\u001b[0m\u001b[2;36m \u001b[0m\u001b[34mINFO    \u001b[0m \u001b[1;36m03\u001b[0m/\u001b[1;36m10\u001b[0m\u001b[1m)\u001b[0m Apply registration to atlas        \u001b]8;id=449822;file:///home/marianne/anaconda3/envs/segment_glioma/lib/python3.9/site-packages/picture_nnunet_package/doInference.py\u001b\\\u001b[2mdoInference.py\u001b[0m\u001b]8;;\u001b\\\u001b[2m:\u001b[0m\u001b]8;id=183502;file:///home/marianne/anaconda3/envs/segment_glioma/lib/python3.9/site-packages/picture_nnunet_package/doInference.py#126\u001b\\\u001b[2m126\u001b[0m\u001b]8;;\u001b\\\n",
      "\u001b[2;36m[18:35:26]\u001b[0m\u001b[2;36m \u001b[0m\u001b[34mINFO    \u001b[0m \u001b[1;36m04\u001b[0m/\u001b[1;36m10\u001b[0m\u001b[1m)\u001b[0m Skullstrip                         \u001b]8;id=492139;file:///home/marianne/anaconda3/envs/segment_glioma/lib/python3.9/site-packages/picture_nnunet_package/doInference.py\u001b\\\u001b[2mdoInference.py\u001b[0m\u001b]8;;\u001b\\\u001b[2m:\u001b[0m\u001b]8;id=641732;file:///home/marianne/anaconda3/envs/segment_glioma/lib/python3.9/site-packages/picture_nnunet_package/doInference.py#139\u001b\\\u001b[2m139\u001b[0m\u001b]8;;\u001b\\\n"
     ]
    },
    {
     "name": "stderr",
     "output_type": "stream",
     "text": [
      "/home/marianne/anaconda3/envs/segment_glioma/lib/python3.9/site-packages/HD_BET/run.py:75: FutureWarning:\n",
      "\n",
      "You are using `torch.load` with `weights_only=False` (the current default value), which uses the default pickle module implicitly. It is possible to construct malicious pickle data which will execute arbitrary code during unpickling (See https://github.com/pytorch/pytorch/blob/main/SECURITY.md#untrusted-models for more details). In a future release, the default value for `weights_only` will be flipped to `True`. This limits the functions that could be executed during unpickling. Arbitrary objects will no longer be allowed to be loaded via this mode unless they are explicitly allowlisted by the user via `torch.serialization.add_safe_globals`. We recommend you start setting `weights_only=True` for any use case where you don't have full control of the loaded file. Please open an issue on GitHub for any issues related to this experimental feature.\n",
      "\n"
     ]
    },
    {
     "name": "stdout",
     "output_type": "stream",
     "text": [
      "File: /home/marianne/prj/glioma_recurrence/glioma_recurrence/data/10/easyreg_1/10_036_20150101/wdir/tmpw6rg02cd/nii_data_tki/10_036_20150101_CT1_coreg.nii.gz\n",
      "preprocessing...\n",
      "image shape after preprocessing:  (121, 145, 121)\n",
      "prediction (CNN id)...\n",
      "0\n",
      "1\n",
      "2\n",
      "3\n",
      "4\n",
      "exporting segmentation...\n",
      "mask_fname: /home/marianne/prj/glioma_recurrence/glioma_recurrence/data/10/easyreg_1/10_036_20150101/wdir/tmpw6rg02cd/nii_data_tki/brain_mask_10_036_20150101_CT1_coreg_mask.nii.gz\n",
      "\u001b[2;36m[18:35:40]\u001b[0m\u001b[2;36m \u001b[0m\u001b[34mINFO    \u001b[0m \u001b[1;36m5\u001b[0m&\u001b[1;36m6\u001b[0m/\u001b[1;36m10\u001b[0m\u001b[1m)\u001b[0m Apply skullstrip and              \u001b]8;id=529322;file:///home/marianne/anaconda3/envs/segment_glioma/lib/python3.9/site-packages/picture_nnunet_package/doInference.py\u001b\\\u001b[2mdoInference.py\u001b[0m\u001b]8;;\u001b\\\u001b[2m:\u001b[0m\u001b]8;id=258851;file:///home/marianne/anaconda3/envs/segment_glioma/lib/python3.9/site-packages/picture_nnunet_package/doInference.py#157\u001b\\\u001b[2m157\u001b[0m\u001b]8;;\u001b\\\n",
      "\u001b[2;36m           \u001b[0m         normalization                             \u001b[2m                  \u001b[0m\n",
      "\u001b[2;36m[18:35:41]\u001b[0m\u001b[2;36m \u001b[0m\u001b[34mINFO    \u001b[0m \u001b[1;36m07\u001b[0m/\u001b[1;36m10\u001b[0m\u001b[1m)\u001b[0m Load segmentation network          \u001b]8;id=95676;file:///home/marianne/anaconda3/envs/segment_glioma/lib/python3.9/site-packages/picture_nnunet_package/doInference.py\u001b\\\u001b[2mdoInference.py\u001b[0m\u001b]8;;\u001b\\\u001b[2m:\u001b[0m\u001b]8;id=266699;file:///home/marianne/anaconda3/envs/segment_glioma/lib/python3.9/site-packages/picture_nnunet_package/doInference.py#185\u001b\\\u001b[2m185\u001b[0m\u001b]8;;\u001b\\\n",
      "\n",
      "\n",
      "Please cite the following paper when using nnUNet:\n",
      "\n",
      "Isensee, F., Jaeger, P.F., Kohl, S.A.A. et al. \"nnU-Net: a self-configuring method for deep learning-based biomedical image segmentation.\" Nat Methods (2020). https://doi.org/10.1038/s41592-020-01008-z\n",
      "\n",
      "\n",
      "If you have questions or suggestions, feel free to open an issue at https://github.com/MIC-DKFZ/nnUNet\n",
      "\n",
      "nnUNet_raw_data_base is not defined and nnU-Net can only be used on data for which preprocessed files are already present on your system. nnU-Net cannot be used for experiment planning and preprocessing like this. If this is not intended, please read documentation/setting_up_paths.md for information on how to set this up properly.\n",
      "nnUNet_preprocessed is not defined and nnU-Net can not be used for preprocessing or training. If this is not intended, please read documentation/setting_up_paths.md for information on how to set this up.\n",
      "RESULTS_FOLDER is not defined and nnU-Net cannot be used for training or inference. If this is not intended behavior, please read documentation/setting_up_paths.md for information on how to set this up.\n",
      "number of cases: 1\n",
      "number of cases that still need to be predicted: 1\n",
      "emptying cuda cache\n",
      "loading parameters for folds, (0,)\n",
      "using the following model files:  ['/home/marianne/anaconda3/envs/segment_glioma/lib/python3.9/site-packages/picture_nnunet_package/./model/Task101_picture/fold_0/model_final_checkpoint.model']\n"
     ]
    },
    {
     "name": "stderr",
     "output_type": "stream",
     "text": [
      "/home/marianne/anaconda3/envs/segment_glioma/lib/python3.9/site-packages/nnunet/training/model_restore.py:147: FutureWarning:\n",
      "\n",
      "You are using `torch.load` with `weights_only=False` (the current default value), which uses the default pickle module implicitly. It is possible to construct malicious pickle data which will execute arbitrary code during unpickling (See https://github.com/pytorch/pytorch/blob/main/SECURITY.md#untrusted-models for more details). In a future release, the default value for `weights_only` will be flipped to `True`. This limits the functions that could be executed during unpickling. Arbitrary objects will no longer be allowed to be loaded via this mode unless they are explicitly allowlisted by the user via `torch.serialization.add_safe_globals`. We recommend you start setting `weights_only=True` for any use case where you don't have full control of the loaded file. Please open an issue on GitHub for any issues related to this experimental feature.\n",
      "\n"
     ]
    },
    {
     "name": "stdout",
     "output_type": "stream",
     "text": [
      "starting preprocessing generator\n",
      "starting prediction...\n",
      "preprocessing /home/marianne/prj/glioma_recurrence/glioma_recurrence/data/10/easyreg_1/10_036_20150101/wdir/tmpw6rg02cd/nnUNet_workdir/output/tmp.nii.gz\n",
      "using preprocessor GenericPreprocessor\n",
      "before crop: (4, 182, 218, 182) after crop: (4, 182, 218, 182) spacing: [1. 1. 1.] \n",
      "\n",
      "no resampling necessary\n",
      "no resampling necessary\n",
      "before: {'spacing': array([1., 1., 1.]), 'spacing_transposed': array([1., 1., 1.]), 'data.shape (data is transposed)': (4, 182, 218, 182)} \n",
      "after:  {'spacing': array([1., 1., 1.]), 'data.shape (data is resampled)': (4, 182, 218, 182)} \n",
      "\n",
      "(4, 182, 218, 182)\n",
      "This worker has ended successfully, no errors to report\n",
      "predicting /home/marianne/prj/glioma_recurrence/glioma_recurrence/data/10/easyreg_1/10_036_20150101/wdir/tmpw6rg02cd/nnUNet_workdir/output/tmp.nii.gz\n"
     ]
    },
    {
     "name": "stderr",
     "output_type": "stream",
     "text": [
      "/home/marianne/anaconda3/envs/segment_glioma/lib/python3.9/site-packages/nnunet/training/network_training/network_trainer.py:404: FutureWarning:\n",
      "\n",
      "`torch.cuda.amp.GradScaler(args...)` is deprecated. Please use `torch.amp.GradScaler('cuda', args...)` instead.\n",
      "\n"
     ]
    },
    {
     "name": "stdout",
     "output_type": "stream",
     "text": [
      "debug: mirroring True mirror_axes (0, 1, 2)\n"
     ]
    },
    {
     "name": "stderr",
     "output_type": "stream",
     "text": [
      "/home/marianne/anaconda3/envs/segment_glioma/lib/python3.9/site-packages/nnunet/network_architecture/neural_network.py:141: FutureWarning:\n",
      "\n",
      "`torch.cuda.amp.autocast(args...)` is deprecated. Please use `torch.amp.autocast('cuda', args...)` instead.\n",
      "\n"
     ]
    },
    {
     "name": "stdout",
     "output_type": "stream",
     "text": [
      "step_size: 0.5\n",
      "do mirror: True\n",
      "data shape: (4, 182, 218, 182)\n",
      "patch size: [128 160 112]\n",
      "steps (x, y, and z): [[0, 54], [0, 58], [0, 35, 70]]\n",
      "number of tiles: 12\n",
      "computing Gaussian\n",
      "done\n",
      "prediction done\n",
      "inference done. Now waiting for the segmentation export to finish...\n",
      "force_separate_z: None interpolation order: 1\n",
      "no resampling necessary\n",
      "WARNING! Cannot run postprocessing because the postprocessing file is missing. Make sure to run consolidate_folds in the output folder of the model first!\n",
      "The folder you need to run this in is /home/marianne/anaconda3/envs/segment_glioma/lib/python3.9/site-packages/picture_nnunet_package/./model/Task101_picture/\n",
      "\u001b[2;36m[18:35:51]\u001b[0m\u001b[2;36m \u001b[0m\u001b[34mINFO    \u001b[0m DONE!!! Saved segmentations to:           \u001b]8;id=101158;file:///home/marianne/anaconda3/envs/segment_glioma/lib/python3.9/site-packages/picture_nnunet_package/doInference.py\u001b\\\u001b[2mdoInference.py\u001b[0m\u001b]8;;\u001b\\\u001b[2m:\u001b[0m\u001b]8;id=338188;file:///home/marianne/anaconda3/envs/segment_glioma/lib/python3.9/site-packages/picture_nnunet_package/doInference.py#311\u001b\\\u001b[2m311\u001b[0m\u001b]8;;\u001b\\\n",
      "\u001b[2;36m          \u001b[0m\u001b[2;36m \u001b[0m\u001b[34mINFO    \u001b[0m \u001b[35m/home/marianne/prj/glioma_recurrence/glio\u001b[0m \u001b]8;id=816375;file:///home/marianne/anaconda3/envs/segment_glioma/lib/python3.9/site-packages/picture_nnunet_package/doInference.py\u001b\\\u001b[2mdoInference.py\u001b[0m\u001b]8;;\u001b\\\u001b[2m:\u001b[0m\u001b]8;id=22766;file:///home/marianne/anaconda3/envs/segment_glioma/lib/python3.9/site-packages/picture_nnunet_package/doInference.py#316\u001b\\\u001b[2m316\u001b[0m\u001b]8;;\u001b\\\n",
      "\u001b[2;36m           \u001b[0m         \u001b[35mma_recurrence/data/10/easyreg_1/10_036_20\u001b[0m \u001b[2m                  \u001b[0m\n",
      "\u001b[2;36m           \u001b[0m         \u001b[35m150101/\u001b[0m\u001b[95msegmentation_10_036_20150101_CT1_c\u001b[0m \u001b[2m                  \u001b[0m\n",
      "\u001b[2;36m           \u001b[0m         \u001b[95moreg.nii.gz\u001b[0m                               \u001b[2m                  \u001b[0m\n",
      "\u001b[2;36m          \u001b[0m\u001b[2;36m \u001b[0m\u001b[34mINFO    \u001b[0m \u001b[35m/home/marianne/prj/glioma_recurrence/glio\u001b[0m \u001b]8;id=144526;file:///home/marianne/anaconda3/envs/segment_glioma/lib/python3.9/site-packages/picture_nnunet_package/doInference.py\u001b\\\u001b[2mdoInference.py\u001b[0m\u001b]8;;\u001b\\\u001b[2m:\u001b[0m\u001b]8;id=433689;file:///home/marianne/anaconda3/envs/segment_glioma/lib/python3.9/site-packages/picture_nnunet_package/doInference.py#316\u001b\\\u001b[2m316\u001b[0m\u001b]8;;\u001b\\\n",
      "\u001b[2;36m           \u001b[0m         \u001b[35mma_recurrence/data/10/easyreg_1/10_036_20\u001b[0m \u001b[2m                  \u001b[0m\n",
      "\u001b[2;36m           \u001b[0m         \u001b[35m150101/\u001b[0m\u001b[95mbrainMask_10_036_20150101_CT1_core\u001b[0m \u001b[2m                  \u001b[0m\n",
      "\u001b[2;36m           \u001b[0m         \u001b[95mg.nii.gz\u001b[0m                                  \u001b[2m                  \u001b[0m\n",
      "\u001b[2;36m          \u001b[0m\u001b[2;36m \u001b[0m\u001b[34mINFO    \u001b[0m \u001b[35m/home/marianne/prj/glioma_recurrence/glio\u001b[0m \u001b]8;id=737092;file:///home/marianne/anaconda3/envs/segment_glioma/lib/python3.9/site-packages/picture_nnunet_package/doInference.py\u001b\\\u001b[2mdoInference.py\u001b[0m\u001b]8;;\u001b\\\u001b[2m:\u001b[0m\u001b]8;id=823675;file:///home/marianne/anaconda3/envs/segment_glioma/lib/python3.9/site-packages/picture_nnunet_package/doInference.py#316\u001b\\\u001b[2m316\u001b[0m\u001b]8;;\u001b\\\n",
      "\u001b[2;36m           \u001b[0m         \u001b[35mma_recurrence/data/10/easyreg_1/10_036_20\u001b[0m \u001b[2m                  \u001b[0m\n",
      "\u001b[2;36m           \u001b[0m         \u001b[35m150101/\u001b[0m\u001b[95mbrainMask_native_10_036_20150101_C\u001b[0m \u001b[2m                  \u001b[0m\n",
      "\u001b[2;36m           \u001b[0m         \u001b[95mT1_coreg.nii.gz\u001b[0m                           \u001b[2m                  \u001b[0m\n",
      "\u001b[2;36m          \u001b[0m\u001b[2;36m \u001b[0m\u001b[34mINFO    \u001b[0m \u001b[35m/home/marianne/prj/glioma_recurrence/glio\u001b[0m \u001b]8;id=23298;file:///home/marianne/anaconda3/envs/segment_glioma/lib/python3.9/site-packages/picture_nnunet_package/doInference.py\u001b\\\u001b[2mdoInference.py\u001b[0m\u001b]8;;\u001b\\\u001b[2m:\u001b[0m\u001b]8;id=102132;file:///home/marianne/anaconda3/envs/segment_glioma/lib/python3.9/site-packages/picture_nnunet_package/doInference.py#316\u001b\\\u001b[2m316\u001b[0m\u001b]8;;\u001b\\\n",
      "\u001b[2;36m           \u001b[0m         \u001b[35mma_recurrence/data/10/easyreg_1/10_036_20\u001b[0m \u001b[2m                  \u001b[0m\n",
      "\u001b[2;36m           \u001b[0m         \u001b[35m150101/\u001b[0m\u001b[95msegmentation_native_10_036_2015010\u001b[0m \u001b[2m                  \u001b[0m\n",
      "\u001b[2;36m           \u001b[0m         \u001b[95m1_CT1_coreg.nii.gz\u001b[0m                        \u001b[2m                  \u001b[0m\n"
     ]
    }
   ],
   "source": [
    "%%bash -s \"$EASYREG_dir\" \"$SEGMENT_GLIOMA_dir\" \n",
    "\n",
    "list=(\n",
    "    '10_036_20150101'\n",
    ")\n",
    "\n",
    "\n",
    "for i in \"${!list[@]}\"; do\n",
    "    list_new[$i]=${list[$i]//,/}\n",
    "done\n",
    "\n",
    "for element in \"${list_new[@]}\"; do\n",
    "    echo \"RUNNING EXAM: $element\"\n",
    "\n",
    "    NIFTI_COREG_DIR=$1/${element}\n",
    "    SEGMENT_GLIOMA_DIR=$2/${element}    \n",
    "    mkdir -p $SEGMENT_GLIOMA_DIR\n",
    "\n",
    "    segment_glioma   $NIFTI_COREG_DIR/${element}_CT1_coreg.nii.gz \\\n",
    "    --t1 $NIFTI_COREG_DIR/${element}_T1_coreg.nii.gz \\\n",
    "    --t2 $NIFTI_COREG_DIR/${element}_T2_coreg.nii.gz \\\n",
    "    --flair $NIFTI_COREG_DIR/${element}_FLAIR_coreg.nii.gz \\\n",
    "    --sessiontype preop\n",
    "\n",
    "    # mv results to the SEGMENT_GLIOMA_DIR\n",
    "    cp $NIFTI_COREG_DIR/${element}_CT1_coreg.nii.gz $SEGMENT_GLIOMA_DIR/\n",
    "    mv $NIFTI_COREG_DIR/brain*coreg.nii.gz $SEGMENT_GLIOMA_DIR/\n",
    "    mv $NIFTI_COREG_DIR/segment*coreg.nii.gz $SEGMENT_GLIOMA_DIR/\n",
    "    cp -r $NIFTI_COREG_DIR/wdir $SEGMENT_GLIOMA_DIR/\n",
    "    rm -r $NIFTI_COREG_DIR/wdir\n",
    "done\n"
   ]
  },
  {
   "cell_type": "markdown",
   "metadata": {},
   "source": []
  }
 ],
 "metadata": {
  "kernelspec": {
   "display_name": "Python 3 (ipykernel)",
   "language": "python",
   "name": "python3"
  },
  "language_info": {
   "codemirror_mode": {
    "name": "ipython",
    "version": 3
   },
   "file_extension": ".py",
   "mimetype": "text/x-python",
   "name": "python",
   "nbconvert_exporter": "python",
   "pygments_lexer": "ipython3",
   "version": "3.9.19"
  }
 },
 "nbformat": 4,
 "nbformat_minor": 4
}
